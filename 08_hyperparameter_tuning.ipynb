{
 "cells": [
  {
   "cell_type": "code",
   "execution_count": 7,
   "id": "3ab11392",
   "metadata": {},
   "outputs": [],
   "source": [
    "import joblib\n",
    "import warnings\n",
    "import numpy as np\n",
    "import matplotlib.pyplot as plt\n",
    "import pandas as pd\n",
    "import seaborn as sns\n",
    "from sklearn.ensemble import RandomForestClassifier\n",
    "from sklearn.linear_model import LogisticRegression\n",
    "from sklearn.tree import DecisionTreeClassifier\n",
    "from sklearn.model_selection import (\n",
    "                                    StratifiedKFold,\n",
    "                                    cross_validate,\n",
    "                                    GridSearchCV\n",
    "                                )\n",
    "from sklearn.metrics import (\n",
    "                            classification_report,\n",
    "                            confusion_matrix,\n",
    "                            accuracy_score,\n",
    "                            precision_score,\n",
    "                            recall_score,\n",
    "                            f1_score,\n",
    "                            roc_auc_score,\n",
    "                            roc_curve,\n",
    "                            precision_recall_curve\n",
    "                        )\n",
    "\n",
    "warnings.filterwarnings('ignore')"
   ]
  },
  {
   "cell_type": "markdown",
   "id": "641a966a",
   "metadata": {},
   "source": [
    "#### Load the Data"
   ]
  },
  {
   "cell_type": "code",
   "execution_count": 8,
   "id": "bf13fa16",
   "metadata": {},
   "outputs": [],
   "source": [
    "X_train = np.load('artifacts/X_train.npz')['arr_0']\n",
    "Y_train = np.load('artifacts/Y_train.npz')['arr_0']\n",
    "X_test = np.load('artifacts/X_test.npz')['arr_0']\n",
    "Y_test = np.load('artifacts/Y_test.npz')['arr_0']"
   ]
  },
  {
   "cell_type": "markdown",
   "id": "805d3ca1",
   "metadata": {},
   "source": [
    "#### Define Multimodels"
   ]
  },
  {
   "cell_type": "code",
   "execution_count": 9,
   "id": "a58a1853",
   "metadata": {},
   "outputs": [],
   "source": [
    "lr_param_grid = {\n",
    "    'max_iter' : [1000, 5000, 10000]\n",
    "}\n",
    "\n",
    "dt_param_grid = {\n",
    "    'max_depth' : [8, 12, 16, 20],\n",
    "    'criterion' : ['gini', 'entropy', 'log_loss']\n",
    "}\n",
    "\n",
    "rf_param_grid = {\n",
    "    'n_estimators' : [100],\n",
    "    'max_depth' : [8, 12],\n",
    "    'criterion' : ['gini', 'entropy', 'log_loss']\n",
    "}\n",
    "\n",
    "param_grids = {\n",
    "    'Logistic Regression' : lr_param_grid,\n",
    "    'Decision Tree' : dt_param_grid,\n",
    "    'Random Forest' : rf_param_grid\n",
    "}"
   ]
  },
  {
   "cell_type": "code",
   "execution_count": 10,
   "id": "306d2996",
   "metadata": {},
   "outputs": [],
   "source": [
    "models = {\n",
    "    'Logistic Regression' : LogisticRegression(),\n",
    "    'Decision Tree' : DecisionTreeClassifier(),\n",
    "    'Random Forest' : RandomForestClassifier()\n",
    "}"
   ]
  },
  {
   "cell_type": "markdown",
   "id": "1c74c950",
   "metadata": {},
   "source": [
    "#### Configure k-fold CV"
   ]
  },
  {
   "cell_type": "code",
   "execution_count": 11,
   "id": "5a05a5bf",
   "metadata": {},
   "outputs": [],
   "source": [
    "cv = StratifiedKFold(\n",
    "                    n_splits=6,\n",
    "                    shuffle=True,\n",
    "                    random_state=42\n",
    "                )"
   ]
  },
  {
   "cell_type": "markdown",
   "id": "5b636b58",
   "metadata": {},
   "source": [
    "#### Multimodel Training"
   ]
  },
  {
   "cell_type": "code",
   "execution_count": 12,
   "id": "abb771ef",
   "metadata": {},
   "outputs": [
    {
     "name": "stdout",
     "output_type": "stream",
     "text": [
      "\n",
      "---------------Tuning Logistic Regression----------------\n",
      "Fitting gridSearchCV for Logistic Regression\n",
      "Fitting 6 folds for each of 3 candidates, totalling 18 fits\n",
      "Logistic Regression gridSearchCV completed......\n",
      "Best parameters : {'max_iter': 1000}\n",
      "Best CV scores : 0.8005231362254244\n",
      "\n",
      "---------------Tuning Decision Tree----------------\n",
      "Fitting gridSearchCV for Decision Tree\n",
      "Fitting 6 folds for each of 12 candidates, totalling 72 fits\n",
      "Decision Tree gridSearchCV completed......\n",
      "Best parameters : {'criterion': 'entropy', 'max_depth': 12}\n",
      "Best CV scores : 0.8092355613168722\n",
      "\n",
      "---------------Tuning Random Forest----------------\n",
      "Fitting gridSearchCV for Random Forest\n",
      "Fitting 6 folds for each of 6 candidates, totalling 36 fits\n",
      "Random Forest gridSearchCV completed......\n",
      "Best parameters : {'criterion': 'gini', 'max_depth': 12, 'n_estimators': 100}\n",
      "Best CV scores : 0.8458776714368779\n"
     ]
    }
   ],
   "source": [
    "grid_search_results = {}\n",
    "\n",
    "for model_name, model in models.items():\n",
    "    print(f'\\n---------------Tuning {model_name}----------------')\n",
    "\n",
    "    param_grid = param_grids[model_name]\n",
    "\n",
    "    grid_search = GridSearchCV(\n",
    "                                estimator=model,\n",
    "                                param_grid=param_grid,\n",
    "                                cv=cv, scoring='f1',\n",
    "                                verbose=1, return_train_score=True\n",
    "                            )\n",
    "    \n",
    "    print(f'Fitting gridSearchCV for {model_name}')\n",
    "    grid_search.fit(X_train, Y_train)\n",
    "    grid_search_results[model_name] = grid_search\n",
    "\n",
    "    print(f'{model_name} gridSearchCV completed......')\n",
    "    print(f'Best parameters : {grid_search.best_params_}')\n",
    "    print(f'Best CV scores : {grid_search.best_score_}')"
   ]
  },
  {
   "cell_type": "code",
   "execution_count": 13,
   "id": "b39053c7",
   "metadata": {},
   "outputs": [
    {
     "data": {
      "text/plain": [
       "{'Logistic Regression': GridSearchCV(cv=StratifiedKFold(n_splits=6, random_state=42, shuffle=True),\n",
       "              estimator=LogisticRegression(),\n",
       "              param_grid={'max_iter': [1000, 5000, 10000]},\n",
       "              return_train_score=True, scoring='f1', verbose=1),\n",
       " 'Decision Tree': GridSearchCV(cv=StratifiedKFold(n_splits=6, random_state=42, shuffle=True),\n",
       "              estimator=DecisionTreeClassifier(),\n",
       "              param_grid={'criterion': ['gini', 'entropy', 'log_loss'],\n",
       "                          'max_depth': [8, 12, 16, 20]},\n",
       "              return_train_score=True, scoring='f1', verbose=1),\n",
       " 'Random Forest': GridSearchCV(cv=StratifiedKFold(n_splits=6, random_state=42, shuffle=True),\n",
       "              estimator=RandomForestClassifier(),\n",
       "              param_grid={'criterion': ['gini', 'entropy', 'log_loss'],\n",
       "                          'max_depth': [8, 12], 'n_estimators': [100]},\n",
       "              return_train_score=True, scoring='f1', verbose=1)}"
      ]
     },
     "execution_count": 13,
     "metadata": {},
     "output_type": "execute_result"
    }
   ],
   "source": [
    "grid_search_results"
   ]
  }
 ],
 "metadata": {
  "kernelspec": {
   "display_name": "bprlms",
   "language": "python",
   "name": "python3"
  },
  "language_info": {
   "codemirror_mode": {
    "name": "ipython",
    "version": 3
   },
   "file_extension": ".py",
   "mimetype": "text/x-python",
   "name": "python",
   "nbconvert_exporter": "python",
   "pygments_lexer": "ipython3",
   "version": "3.11.13"
  }
 },
 "nbformat": 4,
 "nbformat_minor": 5
}
