{
 "cells": [
  {
   "cell_type": "code",
   "execution_count": 11,
   "id": "f62fc020",
   "metadata": {},
   "outputs": [
    {
     "name": "stdout",
     "output_type": "stream",
     "text": [
      "Note: you may need to restart the kernel to use updated packages.\n"
     ]
    }
   ],
   "source": [
    "%pip install -q -r requirements.txt"
   ]
  },
  {
   "cell_type": "code",
   "execution_count": 12,
   "id": "29b67f6b",
   "metadata": {},
   "outputs": [],
   "source": [
    "import joblib\n",
    "import warnings\n",
    "import numpy as np\n",
    "import matplotlib.pyplot as plt\n",
    "import pandas as pd\n",
    "import seaborn as sns\n",
    "from sklearn.ensemble import RandomForestClassifier\n",
    "from sklearn.linear_model import LogisticRegression\n",
    "from sklearn.tree import DecisionTreeClassifier\n",
    "from sklearn.model_selection import (\n",
    "                                    StratifiedKFold,\n",
    "                                    cross_validate\n",
    "                                )\n",
    "from sklearn.metrics import (\n",
    "                            classification_report,\n",
    "                            confusion_matrix,\n",
    "                            accuracy_score,\n",
    "                            precision_score,\n",
    "                            recall_score,\n",
    "                            f1_score,\n",
    "                            roc_auc_score,\n",
    "                            roc_curve,\n",
    "                            precision_recall_curve\n",
    "                        )\n",
    "\n",
    "warnings.filterwarnings('ignore')"
   ]
  },
  {
   "cell_type": "markdown",
   "id": "ae41c16f",
   "metadata": {},
   "source": [
    "#### Loading Data"
   ]
  },
  {
   "cell_type": "code",
   "execution_count": 13,
   "id": "699dda80",
   "metadata": {},
   "outputs": [],
   "source": [
    "X_train = np.load('artifacts/X_train.npz')['arr_0']\n",
    "Y_train = np.load('artifacts/Y_train.npz')['arr_0']\n",
    "X_test = np.load('artifacts/X_test.npz')['arr_0']\n",
    "Y_test = np.load('artifacts/Y_test.npz')['arr_0']"
   ]
  },
  {
   "cell_type": "code",
   "execution_count": 14,
   "id": "be0f439c",
   "metadata": {},
   "outputs": [],
   "source": [
    "models = {\n",
    "    'Logistic Regression': LogisticRegression(),\n",
    "    'Decision Tree': DecisionTreeClassifier(),\n",
    "    'Random Forest': RandomForestClassifier()\n",
    "}"
   ]
  },
  {
   "cell_type": "markdown",
   "id": "39854142",
   "metadata": {},
   "source": [
    "#### Configure K-fold CV"
   ]
  },
  {
   "cell_type": "code",
   "execution_count": 15,
   "id": "1afbcf9e",
   "metadata": {},
   "outputs": [],
   "source": [
    "cv = StratifiedKFold(\n",
    "                    n_splits=6,\n",
    "                    shuffle=True,\n",
    "                    random_state=42\n",
    "                )"
   ]
  },
  {
   "cell_type": "code",
   "execution_count": 16,
   "id": "ad32cffa",
   "metadata": {},
   "outputs": [
    {
     "name": "stdout",
     "output_type": "stream",
     "text": [
      "\n",
      "Cross Validation on Logistic Regression\n",
      "\n",
      "Cross Validation on Decision Tree\n",
      "\n",
      "Cross Validation on Random Forest\n"
     ]
    }
   ],
   "source": [
    "trained_models = {}\n",
    "\n",
    "for model_name, model in models.items():\n",
    "    print(f'\\nCross Validation on {model_name}')\n",
    "\n",
    "    cv_results = cross_validate(\n",
    "                                model,\n",
    "                                X_train,\n",
    "                                Y_train,\n",
    "                                cv=cv, scoring='f1',\n",
    "                                return_estimator=True,\n",
    "                                return_train_score=True\n",
    "                            )\n",
    "    \n",
    "    test_scores = cv_results['test_score']\n",
    "    best_index = np.argmax(test_scores)\n",
    "\n",
    "    estimator = cv_results['estimator'][best_index]\n",
    "    trained_models[model_name] = estimator\n"
   ]
  },
  {
   "cell_type": "code",
   "execution_count": 17,
   "id": "7198e530",
   "metadata": {},
   "outputs": [
    {
     "data": {
      "text/plain": [
       "{'Logistic Regression': LogisticRegression(),\n",
       " 'Decision Tree': DecisionTreeClassifier(),\n",
       " 'Random Forest': RandomForestClassifier()}"
      ]
     },
     "execution_count": 17,
     "metadata": {},
     "output_type": "execute_result"
    }
   ],
   "source": [
    "trained_models"
   ]
  },
  {
   "cell_type": "code",
   "execution_count": 18,
   "id": "aa3cb472",
   "metadata": {},
   "outputs": [
    {
     "data": {
      "text/plain": [
       "{'Logistic Regression': array([1, 0, 0, ..., 0, 0, 1], shape=(1409,)),\n",
       " 'Decision Tree': array([1, 0, 0, ..., 0, 0, 0], shape=(1409,)),\n",
       " 'Random Forest': array([1, 0, 0, ..., 0, 0, 0], shape=(1409,))}"
      ]
     },
     "execution_count": 18,
     "metadata": {},
     "output_type": "execute_result"
    }
   ],
   "source": [
    "Y_hat_tests = {}\n",
    "\n",
    "for model_name, model in trained_models.items():\n",
    "    Y_hat_test = model.predict(X_test)\n",
    "    Y_hat_tests[model_name] = Y_hat_test\n",
    "\n",
    "Y_hat_tests"
   ]
  },
  {
   "cell_type": "code",
   "execution_count": 19,
   "id": "6d200160",
   "metadata": {},
   "outputs": [
    {
     "name": "stdout",
     "output_type": "stream",
     "text": [
      "\n",
      "Scores for Logistic Regression\n",
      "Accuracy : 0.7672107877927609\n",
      "precision : 0.5436893203883495\n",
      "recall : 0.7506702412868632\n",
      "f1_score : 0.6306306306306306\n",
      "\n",
      "Scores for Decision Tree\n",
      "Accuracy : 0.730305180979418\n",
      "precision : 0.49213483146067416\n",
      "recall : 0.5871313672922251\n",
      "f1_score : 0.5354523227383863\n",
      "\n",
      "Scores for Random Forest\n",
      "Accuracy : 0.7785663591199432\n",
      "precision : 0.5788113695090439\n",
      "recall : 0.6005361930294906\n",
      "f1_score : 0.5894736842105263\n"
     ]
    }
   ],
   "source": [
    "for model_name, prediction in Y_hat_tests.items():\n",
    "    print(f'\\nScores for {model_name}')\n",
    "\n",
    "    accuracy = accuracy_score(Y_test, prediction)\n",
    "    precision = precision_score(Y_test, prediction)\n",
    "    recall = recall_score(Y_test, prediction)\n",
    "    f1 = f1_score(Y_test, prediction)\n",
    "\n",
    "    print(f'Accuracy : {accuracy}')\n",
    "    print(f'precision : {precision}')\n",
    "    print(f'recall : {recall}')\n",
    "    print(f'f1_score : {f1}')"
   ]
  },
  {
   "cell_type": "code",
   "execution_count": 20,
   "id": "d61eec93",
   "metadata": {},
   "outputs": [],
   "source": [
    "cm1 = confusion_matrix(Y_test, Y_hat_tests['Logistic Regression'])\n",
    "cm2 = confusion_matrix(Y_test, Y_hat_tests['Decision Tree'])\n",
    "cm3 = confusion_matrix(Y_test, Y_hat_tests['Random Forest'])"
   ]
  },
  {
   "cell_type": "code",
   "execution_count": 21,
   "id": "91d28ec9",
   "metadata": {},
   "outputs": [
    {
     "data": {
      "image/png": "[encoded data removed]",
      "text/plain": [
       "<Figure size 2000x600 with 6 Axes>"
      ]
     },
     "metadata": {},
     "output_type": "display_data"
    }
   ],
   "source": [
    "fig, (ax1, ax2, ax3) = plt.subplots(1, 3, figsize=(20,6))\n",
    "\n",
    "sns.heatmap(cm1, annot=True, fmt='d', ax=ax1)\n",
    "ax1.set_title('Logistic Regression')\n",
    "ax1.set_xlabel('Predicted')\n",
    "ax1.set_ylabel('Actual')\n",
    "\n",
    "sns.heatmap(cm2, annot=True, fmt='d', ax=ax2)\n",
    "ax2.set_title('Decision Tree')\n",
    "ax2.set_xlabel('Predicted')\n",
    "ax2.set_ylabel('Actual')\n",
    "\n",
    "sns.heatmap(cm3, annot=True, fmt='d', ax=ax3)\n",
    "ax3.set_title('Random Forest')\n",
    "ax3.set_xlabel('Predicted')\n",
    "ax3.set_ylabel('Actual')\n",
    "\n",
    "plt.show()"
   ]
  }
 ],
 "metadata": {
  "kernelspec": {
   "display_name": "bprlms",
   "language": "python",
   "name": "python3"
  },
  "language_info": {
   "codemirror_mode": {
    "name": "ipython",
    "version": 3
   },
   "file_extension": ".py",
   "mimetype": "text/x-python",
   "name": "python",
   "nbconvert_exporter": "python",
   "pygments_lexer": "ipython3",
   "version": "3.11.13"
  }
 },
 "nbformat": 4,
 "nbformat_minor": 5
}
