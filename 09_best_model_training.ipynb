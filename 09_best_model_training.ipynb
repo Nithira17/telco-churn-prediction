{
 "cells": [
  {
   "cell_type": "code",
   "execution_count": 11,
   "id": "36c38a4f",
   "metadata": {},
   "outputs": [],
   "source": [
    "import warnings\n",
    "import numpy as np\n",
    "import matplotlib.pyplot as plt\n",
    "import pandas as pd\n",
    "import seaborn as sns\n",
    "from sklearn.linear_model import LogisticRegression\n",
    "from sklearn.ensemble import RandomForestClassifier\n",
    "from sklearn.model_selection import (\n",
    "                                    StratifiedKFold,\n",
    "                                    cross_validate\n",
    "                                )\n",
    "from sklearn.metrics import (\n",
    "                            classification_report,\n",
    "                            confusion_matrix,\n",
    "                            roc_auc_score,\n",
    "                            roc_curve,\n",
    "                            accuracy_score,\n",
    "                            precision_recall_curve,\n",
    "                            f1_score,\n",
    "                            precision_score,\n",
    "                            recall_score\n",
    "                        )\n",
    "warnings.filterwarnings('ignore')"
   ]
  },
  {
   "cell_type": "code",
   "execution_count": 12,
   "id": "f84fa709",
   "metadata": {},
   "outputs": [],
   "source": [
    "X_train = np.load('artifacts/X_train.npz')['arr_0']\n",
    "Y_train = np.load('artifacts/Y_train.npz')['arr_0']\n",
    "X_test = np.load('artifacts/X_test.npz')['arr_0']\n",
    "Y_test = np.load('artifacts/Y_test.npz')['arr_0']"
   ]
  },
  {
   "cell_type": "code",
   "execution_count": 13,
   "id": "d718881a",
   "metadata": {},
   "outputs": [],
   "source": [
    "cv = StratifiedKFold(\n",
    "                    n_splits=6,\n",
    "                    shuffle=True,\n",
    "                    random_state=42\n",
    "                )"
   ]
  },
  {
   "cell_type": "code",
   "execution_count": 14,
   "id": "c47f3016",
   "metadata": {},
   "outputs": [],
   "source": [
    "model_lr = RandomForestClassifier(\n",
    "                                    n_estimators=300,\n",
    "                                    criterion='entropy',\n",
    "                                    max_depth=50\n",
    "                                )"
   ]
  },
  {
   "cell_type": "code",
   "execution_count": 15,
   "id": "d5606762",
   "metadata": {},
   "outputs": [],
   "source": [
    "cv_results = cross_validate(\n",
    "                            model_lr,\n",
    "                            X_train,\n",
    "                            Y_train,\n",
    "                            cv=cv, scoring='f1',\n",
    "                            return_estimator=True,\n",
    "                            return_train_score=True\n",
    "                        )"
   ]
  },
  {
   "cell_type": "code",
   "execution_count": 16,
   "id": "c1766884",
   "metadata": {},
   "outputs": [],
   "source": [
    "test_scores = cv_results['test_score']\n",
    "best_index = np.argmax(test_scores)\n",
    "estimator = cv_results['estimator'][best_index]"
   ]
  },
  {
   "cell_type": "code",
   "execution_count": 17,
   "id": "55d18faa",
   "metadata": {},
   "outputs": [],
   "source": [
    "Y_hat_test = estimator.predict(X_test)"
   ]
  },
  {
   "cell_type": "code",
   "execution_count": 18,
   "id": "5a985f64",
   "metadata": {},
   "outputs": [
    {
     "name": "stdout",
     "output_type": "stream",
     "text": [
      "Accuracy : 0.7707594038325053\n",
      "precision : 0.5637755102040817\n",
      "recall : 0.5924932975871313\n",
      "f1_score : 0.5777777777777777\n"
     ]
    }
   ],
   "source": [
    "accuracy = accuracy_score(Y_test, Y_hat_test)\n",
    "precision = precision_score(Y_test, Y_hat_test)\n",
    "recall = recall_score(Y_test, Y_hat_test)\n",
    "f1 = f1_score(Y_test, Y_hat_test)\n",
    "\n",
    "print(f'Accuracy : {accuracy}')\n",
    "print(f'precision : {precision}')\n",
    "print(f'recall : {recall}')\n",
    "print(f'f1_score : {f1}')"
   ]
  }
 ],
 "metadata": {
  "kernelspec": {
   "display_name": "bprlms",
   "language": "python",
   "name": "python3"
  },
  "language_info": {
   "codemirror_mode": {
    "name": "ipython",
    "version": 3
   },
   "file_extension": ".py",
   "mimetype": "text/x-python",
   "name": "python",
   "nbconvert_exporter": "python",
   "pygments_lexer": "ipython3",
   "version": "3.11.13"
  }
 },
 "nbformat": 4,
 "nbformat_minor": 5
}
