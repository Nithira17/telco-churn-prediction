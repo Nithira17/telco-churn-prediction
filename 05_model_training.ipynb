{
 "cells": [
  {
   "cell_type": "code",
   "execution_count": 29,
   "id": "d86d9907",
   "metadata": {},
   "outputs": [
    {
     "name": "stdout",
     "output_type": "stream",
     "text": [
      "Note: you may need to restart the kernel to use updated packages.\n"
     ]
    }
   ],
   "source": [
    "%pip install -q -r requirements.txt"
   ]
  },
  {
   "cell_type": "code",
   "execution_count": 30,
   "id": "3ab11392",
   "metadata": {},
   "outputs": [],
   "source": [
    "import joblib\n",
    "import warnings\n",
    "import numpy as np\n",
    "import matplotlib.pyplot as plt\n",
    "import pandas as pd\n",
    "import seaborn as sns\n",
    "import xgboost as xgb\n",
    "from xgboost import XGBClassifier\n",
    "from sklearn.ensemble import RandomForestClassifier\n",
    "from sklearn.linear_model import LogisticRegression\n",
    "from sklearn.tree import DecisionTreeClassifier\n",
    "from sklearn.model_selection import (\n",
    "                                    StratifiedKFold,\n",
    "                                    cross_validate,\n",
    "                                    GridSearchCV\n",
    "                                )\n",
    "from sklearn.metrics import (\n",
    "                            classification_report,\n",
    "                            confusion_matrix,\n",
    "                            accuracy_score,\n",
    "                            precision_score,\n",
    "                            recall_score,\n",
    "                            f1_score,\n",
    "                            roc_auc_score,\n",
    "                            roc_curve,\n",
    "                            precision_recall_curve\n",
    "                        )\n",
    "\n",
    "warnings.filterwarnings('ignore')"
   ]
  },
  {
   "cell_type": "markdown",
   "id": "641a966a",
   "metadata": {},
   "source": [
    "#### Load the Data"
   ]
  },
  {
   "cell_type": "code",
   "execution_count": 31,
   "id": "bf13fa16",
   "metadata": {},
   "outputs": [],
   "source": [
    "X_train = np.load('artifacts/X_train.npz')['arr_0']\n",
    "Y_train = np.load('artifacts/Y_train.npz')['arr_0']\n",
    "X_test = np.load('artifacts/X_test.npz')['arr_0']\n",
    "Y_test = np.load('artifacts/Y_test.npz')['arr_0']"
   ]
  },
  {
   "cell_type": "markdown",
   "id": "805d3ca1",
   "metadata": {},
   "source": [
    "#### Define Multimodels"
   ]
  },
  {
   "cell_type": "code",
   "execution_count": 32,
   "id": "a58a1853",
   "metadata": {},
   "outputs": [],
   "source": [
    "lr_param_grid = {\n",
    "    'max_iter' : [1000, 5000, 10000]\n",
    "}\n",
    "\n",
    "dt_param_grid = {\n",
    "    'max_depth' : [8, 12, 16, 20],\n",
    "    'criterion' : ['gini', 'entropy', 'log_loss']\n",
    "}\n",
    "\n",
    "rf_param_grid = {\n",
    "    'n_estimators' : [50, 100],\n",
    "    'max_depth' : [50, 100],\n",
    "    'criterion' : ['gini', 'entropy', 'log_loss']\n",
    "}\n",
    "\n",
    "xgb_param_grid = {\n",
    "    'n_estimators' : [100, 300, 500],\n",
    "    'learning_rate' : [0.1, 0.01, 0.05],\n",
    "    'max_depth' : [100, 200, 500]\n",
    "}\n",
    "\n",
    "param_grids = {\n",
    "    'Logistic Regression' : lr_param_grid,\n",
    "    'Decision Tree' : dt_param_grid,\n",
    "    'Random Forest' : rf_param_grid,\n",
    "    'XGBoost' : xgb_param_grid\n",
    "}"
   ]
  },
  {
   "cell_type": "code",
   "execution_count": 33,
   "id": "306d2996",
   "metadata": {},
   "outputs": [],
   "source": [
    "models = {\n",
    "    'Logistic Regression' : LogisticRegression(),\n",
    "    'Decision Tree' : DecisionTreeClassifier(),\n",
    "    'Random Forest' : RandomForestClassifier(),\n",
    "    'XGBoost' : XGBClassifier()\n",
    "}"
   ]
  },
  {
   "cell_type": "markdown",
   "id": "1c74c950",
   "metadata": {},
   "source": [
    "#### Configure k-fold CV"
   ]
  },
  {
   "cell_type": "code",
   "execution_count": 34,
   "id": "5a05a5bf",
   "metadata": {},
   "outputs": [],
   "source": [
    "cv = StratifiedKFold(\n",
    "                    n_splits=6,\n",
    "                    shuffle=True,\n",
    "                    random_state=42\n",
    "                )"
   ]
  },
  {
   "cell_type": "markdown",
   "id": "5b636b58",
   "metadata": {},
   "source": [
    "#### Multimodel Training"
   ]
  },
  {
   "cell_type": "code",
   "execution_count": 35,
   "id": "abb771ef",
   "metadata": {},
   "outputs": [
    {
     "name": "stdout",
     "output_type": "stream",
     "text": [
      "\n",
      "---------------Tuning Logistic Regression----------------\n",
      "Fitting gridSearchCV for Logistic Regression\n",
      "Fitting 6 folds for each of 3 candidates, totalling 18 fits\n",
      "Logistic Regression gridSearchCV completed......\n",
      "Best parameters : {'max_iter': 1000}\n",
      "Best CV scores : 0.8005231362254244\n",
      "\n",
      "---------------Tuning Decision Tree----------------\n",
      "Fitting gridSearchCV for Decision Tree\n",
      "Fitting 6 folds for each of 12 candidates, totalling 72 fits\n",
      "Decision Tree gridSearchCV completed......\n",
      "Best parameters : {'criterion': 'log_loss', 'max_depth': 12}\n",
      "Best CV scores : 0.8104086760097068\n",
      "\n",
      "---------------Tuning Random Forest----------------\n",
      "Fitting gridSearchCV for Random Forest\n",
      "Fitting 6 folds for each of 12 candidates, totalling 72 fits\n",
      "Random Forest gridSearchCV completed......\n",
      "Best parameters : {'criterion': 'entropy', 'max_depth': 100, 'n_estimators': 100}\n",
      "Best CV scores : 0.8540511415118731\n",
      "\n",
      "---------------Tuning XGBoost----------------\n",
      "Fitting gridSearchCV for XGBoost\n",
      "Fitting 6 folds for each of 27 candidates, totalling 162 fits\n",
      "XGBoost gridSearchCV completed......\n",
      "Best parameters : {'learning_rate': 0.1, 'max_depth': 100, 'n_estimators': 100}\n",
      "Best CV scores : 0.8505457932743777\n"
     ]
    }
   ],
   "source": [
    "grid_search_results = {}\n",
    "\n",
    "for model_name, model in models.items():\n",
    "    print(f'\\n---------------Tuning {model_name}----------------')\n",
    "\n",
    "    param_grid = param_grids[model_name]\n",
    "\n",
    "    grid_search = GridSearchCV(\n",
    "                                estimator=model,\n",
    "                                param_grid=param_grid,\n",
    "                                cv=cv, scoring='f1',\n",
    "                                verbose=1, return_train_score=True\n",
    "                            )\n",
    "    \n",
    "    print(f'Fitting gridSearchCV for {model_name}')\n",
    "    grid_search.fit(X_train, Y_train)\n",
    "    grid_search_results[model_name] = grid_search\n",
    "\n",
    "    print(f'{model_name} gridSearchCV completed......')\n",
    "    print(f'Best parameters : {grid_search.best_params_}')\n",
    "    print(f'Best CV scores : {grid_search.best_score_}')"
   ]
  },
  {
   "cell_type": "code",
   "execution_count": 36,
   "id": "b39053c7",
   "metadata": {},
   "outputs": [
    {
     "data": {
      "text/plain": [
       "{'Logistic Regression': GridSearchCV(cv=StratifiedKFold(n_splits=6, random_state=42, shuffle=True),\n",
       "              estimator=LogisticRegression(),\n",
       "              param_grid={'max_iter': [1000, 5000, 10000]},\n",
       "              return_train_score=True, scoring='f1', verbose=1),\n",
       " 'Decision Tree': GridSearchCV(cv=StratifiedKFold(n_splits=6, random_state=42, shuffle=True),\n",
       "              estimator=DecisionTreeClassifier(),\n",
       "              param_grid={'criterion': ['gini', 'entropy', 'log_loss'],\n",
       "                          'max_depth': [8, 12, 16, 20]},\n",
       "              return_train_score=True, scoring='f1', verbose=1),\n",
       " 'Random Forest': GridSearchCV(cv=StratifiedKFold(n_splits=6, random_state=42, shuffle=True),\n",
       "              estimator=RandomForestClassifier(),\n",
       "              param_grid={'criterion': ['gini', 'entropy', 'log_loss'],\n",
       "                          'max_depth': [50, 100], 'n_estimators': [50, 100]},\n",
       "              return_train_score=True, scoring='f1', verbose=1),\n",
       " 'XGBoost': GridSearchCV(cv=StratifiedKFold(n_splits=6, random_state=42, shuffle=True),\n",
       "              estimator=XGBClassifier(base_score=None, booster=None,\n",
       "                                      callbacks=None, colsample_bylevel=None,\n",
       "                                      colsample_bynode=None,\n",
       "                                      colsample_bytree=None, device=None,\n",
       "                                      early_stopping_rounds=None,\n",
       "                                      enable_categorical=False, eval_metric=None,\n",
       "                                      feature_types=None, feature_weights=None,\n",
       "                                      gamma=None, grow_polic...\n",
       "                                      max_cat_to_onehot=None,\n",
       "                                      max_delta_step=None, max_depth=None,\n",
       "                                      max_leaves=None, min_child_weight=None,\n",
       "                                      missing=nan, monotone_constraints=None,\n",
       "                                      multi_strategy=None, n_estimators=None,\n",
       "                                      n_jobs=None, num_parallel_tree=None, ...),\n",
       "              param_grid={'learning_rate': [0.1, 0.01, 0.05],\n",
       "                          'max_depth': [100, 200, 500],\n",
       "                          'n_estimators': [100, 300, 500]},\n",
       "              return_train_score=True, scoring='f1', verbose=1)}"
      ]
     },
     "execution_count": 36,
     "metadata": {},
     "output_type": "execute_result"
    }
   ],
   "source": [
    "grid_search_results"
   ]
  },
  {
   "cell_type": "code",
   "execution_count": 37,
   "id": "e8634faa",
   "metadata": {},
   "outputs": [],
   "source": [
    "best_model = grid_search.best_estimator_"
   ]
  },
  {
   "cell_type": "code",
   "execution_count": 38,
   "id": "e5f5b2a4",
   "metadata": {},
   "outputs": [],
   "source": [
    "Y_hat_test = best_model.predict(X_test)"
   ]
  },
  {
   "cell_type": "code",
   "execution_count": 39,
   "id": "49e67dd4",
   "metadata": {},
   "outputs": [
    {
     "name": "stdout",
     "output_type": "stream",
     "text": [
      "Accuracy : 0.7686302342086586\n",
      "precision : 0.5630026809651475\n",
      "recall : 0.5630026809651475\n",
      "f1_score : 0.5630026809651475\n"
     ]
    }
   ],
   "source": [
    "accuracy = accuracy_score(Y_test, Y_hat_test)\n",
    "precision = precision_score(Y_test, Y_hat_test)\n",
    "recall = recall_score(Y_test, Y_hat_test)\n",
    "f1 = f1_score(Y_test, Y_hat_test)\n",
    "\n",
    "print(f'Accuracy : {accuracy}')\n",
    "print(f'precision : {precision}')\n",
    "print(f'recall : {recall}')\n",
    "print(f'f1_score : {f1}')"
   ]
  },
  {
   "cell_type": "code",
   "execution_count": 40,
   "id": "725bd25c",
   "metadata": {},
   "outputs": [
    {
     "data": {
      "image/png": "[encoded data removed]",
      "text/plain": [
       "<Figure size 640x480 with 2 Axes>"
      ]
     },
     "metadata": {},
     "output_type": "display_data"
    }
   ],
   "source": [
    "cm = confusion_matrix(Y_test, Y_hat_test)\n",
    "sns.heatmap(cm, annot=True, fmt='d')\n",
    "plt.xlabel('Predicted')\n",
    "plt.ylabel('Actual')\n",
    "plt.show()"
   ]
  }
 ],
 "metadata": {
  "kernelspec": {
   "display_name": "bprlms",
   "language": "python",
   "name": "python3"
  },
  "language_info": {
   "codemirror_mode": {
    "name": "ipython",
    "version": 3
   },
   "file_extension": ".py",
   "mimetype": "text/x-python",
   "name": "python",
   "nbconvert_exporter": "python",
   "pygments_lexer": "ipython3",
   "version": "3.11.13"
  }
 },
 "nbformat": 4,
 "nbformat_minor": 5
}
