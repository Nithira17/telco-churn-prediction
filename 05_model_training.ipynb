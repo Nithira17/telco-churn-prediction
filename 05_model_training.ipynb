{
 "cells": [
  {
   "cell_type": "code",
   "execution_count": 13,
   "id": "d86d9907",
   "metadata": {},
   "outputs": [
    {
     "name": "stdout",
     "output_type": "stream",
     "text": [
      "Note: you may need to restart the kernel to use updated packages.\n"
     ]
    }
   ],
   "source": [
    "%pip install -q -r requirements.txt"
   ]
  },
  {
   "cell_type": "code",
   "execution_count": 14,
   "id": "3ab11392",
   "metadata": {},
   "outputs": [],
   "source": [
    "import joblib\n",
    "import warnings\n",
    "import numpy as np\n",
    "import matplotlib.pyplot as plt\n",
    "import pandas as pd\n",
    "import seaborn as sns\n",
    "from xgboost import XGBClassifier\n",
    "from lightgbm import LGBMClassifier\n",
    "from catboost import CatBoostClassifier\n",
    "from scipy.stats import randint, uniform\n",
    "from sklearn.ensemble import RandomForestClassifier\n",
    "from sklearn.linear_model import LogisticRegression\n",
    "from sklearn.tree import DecisionTreeClassifier\n",
    "from sklearn.model_selection import (\n",
    "                                    StratifiedKFold,\n",
    "                                    cross_validate,\n",
    "                                    GridSearchCV,\n",
    "                                    RandomizedSearchCV\n",
    "                                )\n",
    "from sklearn.metrics import (\n",
    "                            classification_report,\n",
    "                            confusion_matrix,\n",
    "                            accuracy_score,\n",
    "                            precision_score,\n",
    "                            recall_score,\n",
    "                            f1_score,\n",
    "                            roc_auc_score,\n",
    "                            roc_curve,\n",
    "                            precision_recall_curve\n",
    "                        )\n",
    "\n",
    "warnings.filterwarnings('ignore')"
   ]
  },
  {
   "cell_type": "markdown",
   "id": "641a966a",
   "metadata": {},
   "source": [
    "#### Load the Data"
   ]
  },
  {
   "cell_type": "code",
   "execution_count": 15,
   "id": "bf13fa16",
   "metadata": {},
   "outputs": [],
   "source": [
    "X_train = np.load('artifacts/X_train.npz')['arr_0']\n",
    "Y_train = np.load('artifacts/Y_train.npz')['arr_0']\n",
    "X_test = np.load('artifacts/X_test.npz')['arr_0']\n",
    "Y_test = np.load('artifacts/Y_test.npz')['arr_0']"
   ]
  },
  {
   "cell_type": "markdown",
   "id": "805d3ca1",
   "metadata": {},
   "source": [
    "#### Define Multimodels"
   ]
  },
  {
   "cell_type": "code",
   "execution_count": 16,
   "id": "a58a1853",
   "metadata": {},
   "outputs": [],
   "source": [
    "'''lr_param_grid = {\n",
    "    'max_iter' : [1000, 5000, 10000]\n",
    "}\n",
    "\n",
    "dt_param_grid = {\n",
    "    'max_depth' : [8, 12, 16, 20],\n",
    "    'criterion' : ['gini', 'entropy', 'log_loss']\n",
    "}\n",
    "\n",
    "rf_param_grid = {\n",
    "    'n_estimators' : [50, 100],\n",
    "    'max_depth' : [50, 100],\n",
    "    'criterion' : ['gini', 'entropy', 'log_loss']\n",
    "}\n",
    "\n",
    "xgb_param_grid = {\n",
    "    'n_estimators' : [100, 200, 300, 500],\n",
    "    'learning_rate' : [0.01, 0.1, 0.2, 0.3],\n",
    "    'max_depth' : [3, 4, 5, 6, 7],\n",
    "    'subsample' : [0.8, 0.9, 1.0],\n",
    "    'colsample_bytree' : [0.8, 0.9, 1.0]\n",
    "}\n",
    "\n",
    "catboost_params = {\n",
    "    'iterations': [100, 200, 300, 500],           \n",
    "    'depth': [3, 4, 5, 6, 7],                     \n",
    "    'learning_rate': [0.01, 0.1, 0.2, 0.3],      \n",
    "    'subsample': [0.8, 0.9, 1.0],                 \n",
    "    'colsample_bylevel': [0.8, 0.9, 1.0],         \n",
    "    'l2_leaf_reg': [1, 3, 5, 7, 9],               \n",
    "    'border_count': [32, 64, 128],                \n",
    "    'bagging_temperature': [0, 1, 10]             \n",
    "}\n",
    "\n",
    "lightgbm_params = {\n",
    "    'n_estimators': [100, 200, 300, 500],         \n",
    "    'max_depth': [3, 4, 5, 6, 7],                 \n",
    "    'learning_rate': [0.01, 0.1, 0.2, 0.3],      \n",
    "    'subsample': [0.8, 0.9, 1.0],                 \n",
    "    'colsample_bytree': [0.8, 0.9, 1.0],          \n",
    "    'num_leaves': [15, 31, 63, 127],              \n",
    "    'min_child_samples': [10, 20, 30],           \n",
    "    'reg_alpha': [0.0, 0.1, 0.5],                 \n",
    "    'reg_lambda': [0.0, 0.1, 0.5]                \n",
    "}\n",
    "\n",
    "param_grids = {\n",
    "    'Logistic Regression' : lr_param_grid,\n",
    "    'Decision Tree' : dt_param_grid,\n",
    "    'Random Forest' : rf_param_grid,\n",
    "    'XGBoost' : xgb_param_grid,\n",
    "    'CatBoost' : catboost_params,\n",
    "    'LightGBM' : lightgbm_params\n",
    "}'''\n",
    "\n",
    "param_distributions = {\n",
    "    'XGBoost': {\n",
    "        'n_estimators': randint(100, 501),\n",
    "        'max_depth': randint(3, 8),\n",
    "        'learning_rate': uniform(0.01, 0.29),\n",
    "        'subsample': uniform(0.8, 0.2),\n",
    "        'colsample_bytree': uniform(0.8, 0.2),\n",
    "        'reg_alpha': uniform(0, 1),\n",
    "        'reg_lambda': uniform(0, 1)\n",
    "    },\n",
    "    'LightGBM': {\n",
    "        'n_estimators': randint(100, 501),\n",
    "        'max_depth': randint(3, 8),\n",
    "        'learning_rate': uniform(0.01, 0.29),\n",
    "        'subsample': uniform(0.8, 0.2),\n",
    "        'colsample_bytree': uniform(0.8, 0.2),\n",
    "        'num_leaves': randint(15, 128),\n",
    "        'min_child_samples': randint(10, 31),\n",
    "        'reg_alpha': uniform(0, 1),\n",
    "        'reg_lambda': uniform(0, 1)\n",
    "    },\n",
    "    'CatBoost': {\n",
    "        'iterations': randint(100, 501),\n",
    "        'depth': randint(3, 8),\n",
    "        'learning_rate': uniform(0.01, 0.29),\n",
    "        'subsample': uniform(0.8, 0.2),\n",
    "        'colsample_bylevel': uniform(0.8, 0.2),\n",
    "        'l2_leaf_reg': randint(1, 10),\n",
    "        'border_count': [32, 64, 128],\n",
    "        'bagging_temperature': uniform(0, 10)\n",
    "    }\n",
    "}\n"
   ]
  },
  {
   "cell_type": "code",
   "execution_count": 17,
   "id": "306d2996",
   "metadata": {},
   "outputs": [],
   "source": [
    "'''models = {\n",
    "    'Logistic Regression' : LogisticRegression(),\n",
    "    'Decision Tree' : DecisionTreeClassifier(),\n",
    "    'Random Forest' : RandomForestClassifier(),\n",
    "    'XGBoost' : XGBClassifier(),\n",
    "    'CatBoost' : CatBoostClassifier(),\n",
    "    'LightGBM' : LGBMClassifier()\n",
    "}'''\n",
    "\n",
    "models = {\n",
    "    'XGBoost': XGBClassifier(random_state=42),\n",
    "    'LightGBM': LGBMClassifier(random_state=42, verbose=-1),\n",
    "    'CatBoost': CatBoostClassifier(random_state=42, verbose=False)\n",
    "}"
   ]
  },
  {
   "cell_type": "markdown",
   "id": "1c74c950",
   "metadata": {},
   "source": [
    "#### Configure k-fold CV"
   ]
  },
  {
   "cell_type": "code",
   "execution_count": 18,
   "id": "5a05a5bf",
   "metadata": {},
   "outputs": [],
   "source": [
    "cv = StratifiedKFold(\n",
    "                    n_splits=6,\n",
    "                    shuffle=True,\n",
    "                    random_state=42\n",
    "                )"
   ]
  },
  {
   "cell_type": "markdown",
   "id": "5b636b58",
   "metadata": {},
   "source": [
    "#### Multimodel Training"
   ]
  },
  {
   "cell_type": "code",
   "execution_count": 19,
   "id": "abb771ef",
   "metadata": {},
   "outputs": [
    {
     "name": "stdout",
     "output_type": "stream",
     "text": [
      "\n",
      "---------------Tuning XGBoost----------------\n",
      "Fitting RandomizedSearchCV for XGBoost\n",
      "Fitting 6 folds for each of 100 candidates, totalling 600 fits\n",
      "XGBoost RandomizedSearchCV completed......\n",
      "Best parameters : {'colsample_bytree': np.float64(0.8317292895284982), 'learning_rate': np.float64(0.04484774786363623), 'max_depth': 7, 'n_estimators': 319, 'reg_alpha': np.float64(0.04600264202175275), 'reg_lambda': np.float64(0.040728802318970136), 'subsample': np.float64(0.9710921168022015)}\n",
      "Best CV scores : 0.8517018950639622\n",
      "\n",
      "---------------Tuning LightGBM----------------\n",
      "Fitting RandomizedSearchCV for LightGBM\n",
      "Fitting 6 folds for each of 100 candidates, totalling 600 fits\n",
      "LightGBM RandomizedSearchCV completed......\n",
      "Best parameters : {'colsample_bytree': np.float64(0.9044486520109609), 'learning_rate': np.float64(0.23329813039859715), 'max_depth': 6, 'min_child_samples': 21, 'n_estimators': 104, 'num_leaves': 117, 'reg_alpha': np.float64(0.085347464993768), 'reg_lambda': np.float64(0.0516817211686077), 'subsample': np.float64(0.9062709263136297)}\n",
      "Best CV scores : 0.8458134141220351\n",
      "\n",
      "---------------Tuning CatBoost----------------\n",
      "Fitting RandomizedSearchCV for CatBoost\n",
      "Fitting 6 folds for each of 100 candidates, totalling 600 fits\n",
      "CatBoost RandomizedSearchCV completed......\n",
      "Best parameters : {'bagging_temperature': np.float64(0.884925020519195), 'border_count': 128, 'colsample_bylevel': np.float64(0.9041668520051648), 'depth': 7, 'iterations': 307, 'l2_leaf_reg': 2, 'learning_rate': np.float64(0.16651071839283313), 'subsample': np.float64(0.9173502331327696)}\n",
      "Best CV scores : 0.853956954928099\n"
     ]
    }
   ],
   "source": [
    "'''grid_search_results = {}\n",
    "\n",
    "for model_name, model in models.items():\n",
    "    print(f'\\n---------------Tuning {model_name}----------------')\n",
    "\n",
    "    param_grid = param_grids[model_name]\n",
    "\n",
    "    grid_search = GridSearchCV(\n",
    "                                estimator=model,\n",
    "                                param_grid=param_grid,\n",
    "                                cv=cv, scoring='f1',\n",
    "                                verbose=1, return_train_score=True\n",
    "                                )\n",
    "\n",
    "    print(f'Fitting gridSearchCV for {model_name}')\n",
    "    grid_search.fit(X_train, Y_train)\n",
    "    grid_search_results[model_name] = grid_search\n",
    "\n",
    "    print(f'{model_name} gridSearchCV completed......')\n",
    "    print(f'Best parameters : {grid_search.best_params_}')\n",
    "    print(f'Best CV scores : {grid_search.best_score_}')'''\n",
    "\n",
    "randomized_search_results = {}\n",
    "\n",
    "for model_name, model in models.items():\n",
    "    print(f'\\n---------------Tuning {model_name}----------------')\n",
    "\n",
    "    param_dist = param_distributions[model_name]\n",
    "\n",
    "    randomized_search = RandomizedSearchCV(\n",
    "                                estimator=model,\n",
    "                                param_distributions=param_dist,\n",
    "                                n_iter=100,\n",
    "                                cv=cv, scoring='f1',\n",
    "                                verbose=1, return_train_score=True,\n",
    "                                random_state=42\n",
    "                                )\n",
    "\n",
    "    print(f'Fitting RandomizedSearchCV for {model_name}')\n",
    "    randomized_search.fit(X_train, Y_train)\n",
    "    randomized_search_results[model_name] = randomized_search\n",
    "\n",
    "    print(f'{model_name} RandomizedSearchCV completed......')\n",
    "    print(f'Best parameters : {randomized_search.best_params_}')\n",
    "    print(f'Best CV scores : {randomized_search.best_score_}')\n",
    "    \n",
    "    \n",
    "    "
   ]
  },
  {
   "cell_type": "code",
   "execution_count": 20,
   "id": "b39053c7",
   "metadata": {},
   "outputs": [
    {
     "data": {
      "text/plain": [
       "{'XGBoost': RandomizedSearchCV(cv=StratifiedKFold(n_splits=6, random_state=42, shuffle=True),\n",
       "                    estimator=XGBClassifier(base_score=None, booster=None,\n",
       "                                            callbacks=None,\n",
       "                                            colsample_bylevel=None,\n",
       "                                            colsample_bynode=None,\n",
       "                                            colsample_bytree=None, device=None,\n",
       "                                            early_stopping_rounds=None,\n",
       "                                            enable_categorical=False,\n",
       "                                            eval_metric=None, feature_types=None,\n",
       "                                            feature_weights=None, gamma=None,\n",
       "                                            grow...\n",
       "                                         'reg_alpha': <scipy.stats._distn_infrastructure.rv_continuous_frozen object at 0x0000029D10216050>,\n",
       "                                         'reg_lambda': <scipy.stats._distn_infrastructure.rv_continuous_frozen object at 0x0000029D10251490>,\n",
       "                                         'subsample': <scipy.stats._distn_infrastructure.rv_continuous_frozen object at 0x0000029D0F876D90>},\n",
       "                    random_state=42, return_train_score=True, scoring='f1',\n",
       "                    verbose=1),\n",
       " 'LightGBM': RandomizedSearchCV(cv=StratifiedKFold(n_splits=6, random_state=42, shuffle=True),\n",
       "                    estimator=LGBMClassifier(random_state=42, verbose=-1),\n",
       "                    n_iter=100,\n",
       "                    param_distributions={'colsample_bytree': <scipy.stats._distn_infrastructure.rv_continuous_frozen object at 0x0000029D102522D0>,\n",
       "                                         'learning_rate': <scipy.stats._distn_infrastructure.rv_continuous_frozen object at 0x000...\n",
       "                                         'reg_alpha': <scipy.stats._distn_infrastructure.rv_continuous_frozen object at 0x0000029D10253490>,\n",
       "                                         'reg_lambda': <scipy.stats._distn_infrastructure.rv_continuous_frozen object at 0x0000029D102538D0>,\n",
       "                                         'subsample': <scipy.stats._distn_infrastructure.rv_continuous_frozen object at 0x0000029D10251B10>},\n",
       "                    random_state=42, return_train_score=True, scoring='f1',\n",
       "                    verbose=1),\n",
       " 'CatBoost': RandomizedSearchCV(cv=StratifiedKFold(n_splits=6, random_state=42, shuffle=True),\n",
       "                    estimator=<catboost.core.CatBoostClassifier object at 0x0000029D0F811A10>,\n",
       "                    n_iter=100,\n",
       "                    param_distributions={'bagging_temperature': <scipy.stats._distn_infrastructure.rv_continuous_frozen object at 0x0000029D1026A1D0>,\n",
       "                                         'border_count': [32, 64, 128],\n",
       "                                         'colsample_bylevel': <scipy.stats._di...\n",
       "                                         'l2_leaf_reg': <scipy.stats._distn_infrastructure.rv_discrete_frozen object at 0x0000029D10269A90>,\n",
       "                                         'learning_rate': <scipy.stats._distn_infrastructure.rv_continuous_frozen object at 0x0000029D10268B90>,\n",
       "                                         'subsample': <scipy.stats._distn_infrastructure.rv_continuous_frozen object at 0x0000029D10268FD0>},\n",
       "                    random_state=42, return_train_score=True, scoring='f1',\n",
       "                    verbose=1)}"
      ]
     },
     "execution_count": 20,
     "metadata": {},
     "output_type": "execute_result"
    }
   ],
   "source": [
    "randomized_search_results"
   ]
  },
  {
   "cell_type": "code",
   "execution_count": 21,
   "id": "e8634faa",
   "metadata": {},
   "outputs": [],
   "source": [
    "best_model = randomized_search.best_estimator_"
   ]
  },
  {
   "cell_type": "code",
   "execution_count": 22,
   "id": "e5f5b2a4",
   "metadata": {},
   "outputs": [],
   "source": [
    "Y_hat_test = best_model.predict(X_test)"
   ]
  },
  {
   "cell_type": "code",
   "execution_count": 23,
   "id": "49e67dd4",
   "metadata": {},
   "outputs": [
    {
     "name": "stdout",
     "output_type": "stream",
     "text": [
      "Accuracy : 0.7885024840312278\n",
      "precision : 0.5944584382871536\n",
      "recall : 0.6327077747989276\n",
      "f1_score : 0.612987012987013\n"
     ]
    }
   ],
   "source": [
    "accuracy = accuracy_score(Y_test, Y_hat_test)\n",
    "precision = precision_score(Y_test, Y_hat_test)\n",
    "recall = recall_score(Y_test, Y_hat_test)\n",
    "f1 = f1_score(Y_test, Y_hat_test)\n",
    "\n",
    "print(f'Accuracy : {accuracy}')\n",
    "print(f'precision : {precision}')\n",
    "print(f'recall : {recall}')\n",
    "print(f'f1_score : {f1}')"
   ]
  },
  {
   "cell_type": "code",
   "execution_count": 24,
   "id": "725bd25c",
   "metadata": {},
   "outputs": [
    {
     "data": {
      "image/png": "[encoded data removed]",
      "text/plain": [
       "<Figure size 640x480 with 2 Axes>"
      ]
     },
     "metadata": {},
     "output_type": "display_data"
    }
   ],
   "source": [
    "cm = confusion_matrix(Y_test, Y_hat_test)\n",
    "sns.heatmap(cm, annot=True, fmt='d')\n",
    "plt.xlabel('Predicted')\n",
    "plt.ylabel('Actual')\n",
    "plt.show()"
   ]
  }
 ],
 "metadata": {
  "kernelspec": {
   "display_name": "bprlms",
   "language": "python",
   "name": "python3"
  },
  "language_info": {
   "codemirror_mode": {
    "name": "ipython",
    "version": 3
   },
   "file_extension": ".py",
   "mimetype": "text/x-python",
   "name": "python",
   "nbconvert_exporter": "python",
   "pygments_lexer": "ipython3",
   "version": "3.11.13"
  }
 },
 "nbformat": 4,
 "nbformat_minor": 5
}
